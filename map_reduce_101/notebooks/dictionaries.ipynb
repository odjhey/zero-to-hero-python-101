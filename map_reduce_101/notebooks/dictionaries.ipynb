{
 "cells": [
  {
   "cell_type": "markdown",
   "metadata": {},
   "source": [
    "Merge Two Dictionaries Merge two dictionaries into one, summing values for matching keys.\n",
    "\n",
    "```python\n",
    "dict1 = {\"a\": 10, \"b\": 20}\n",
    "dict2 = {\"b\": 5, \"c\": 15}\n",
    "# Output: {'a': 10, 'b': 25, 'c': 15}\n",
    "```"
   ]
  },
  {
   "cell_type": "markdown",
   "metadata": {},
   "source": [
    "Flatten a Nested Dictionary Convert a nested dictionary into a single-level dictionary with keys joined by dots.\n",
    "\n",
    "```python\n",
    "nested = {\"a\": {\"b\": {\"c\": 1}}, \"d\": 2}\n",
    "# Output: {'a.b.c': 1, 'd': 2}\n",
    "```"
   ]
  },
  {
   "cell_type": "markdown",
   "metadata": {},
   "source": [
    "Group a List of Dictionaries by Key Group a list of dictionaries by a specific key, creating a dictionary of lists.\n",
    "\n",
    "```python\n",
    "data = [\n",
    "    {\"category\": \"fruit\", \"name\": \"apple\"},\n",
    "    {\"category\": \"fruit\", \"name\": \"banana\"},\n",
    "    {\"category\": \"vegetable\", \"name\": \"carrot\"},\n",
    "]\n",
    "# Output: {'fruit': ['apple', 'banana'], 'vegetable': ['carrot']}\n",
    "```"
   ]
  },
  {
   "cell_type": "markdown",
   "metadata": {},
   "source": [
    "Remove Keys with Null Values Remove all keys from a dictionary where the value is `None`\n",
    "```python\n",
    "data = {\"a\": 1, \"b\": None, \"c\": 2}\n",
    "# Output: {'a': 1, 'c': 2}\n",
    "```\n"
   ]
  },
  {
   "cell_type": "markdown",
   "metadata": {},
   "source": [
    "sort keys/values descending\n",
    "```python\n",
    "data = {\"a\": 3, \"b\": 1, \"c\": 2}\n",
    "# Output: {'a': 3, 'c': 2, 'b': 1}\n",
    "```"
   ]
  }
 ],
 "metadata": {
  "kernelspec": {
   "display_name": "Python 3 (ipykernel)",
   "language": "python",
   "name": "python3"
  },
  "language_info": {
   "codemirror_mode": {
    "name": "ipython",
    "version": 3
   },
   "file_extension": ".py",
   "mimetype": "text/x-python",
   "name": "python",
   "nbconvert_exporter": "python",
   "pygments_lexer": "ipython3",
   "version": "3.11.9"
  }
 },
 "nbformat": 4,
 "nbformat_minor": 2
}
