{
 "cells": [
  {
   "cell_type": "code",
   "execution_count": null,
   "metadata": {},
   "outputs": [],
   "source": [
    "# Add Tax to Items: Modify the items list to include a \"taxed_price\" field where the price is increased by 10%.\n",
    "items = [\n",
    "    {\"name\": \"apple\", \"price\": 10, \"qty\": 3},\n",
    "    {\"name\": \"banana\", \"price\": 20, \"qty\": 5},\n",
    "]\n",
    "# Output: [{\"name\": \"apple\", \"price\": 10, \"qty\": 3, \"taxed_price\": 11}, ...]\n"
   ]
  },
  {
   "cell_type": "code",
   "execution_count": 5,
   "metadata": {},
   "outputs": [
    {
     "name": "stdout",
     "output_type": "stream",
     "text": [
      "[{'name': 'apple', 'price': 10, 'qty': 3, 'taxed_price': 11.0}, {'name': 'banana', 'price': 20, 'qty': 5, 'taxed_price': 22.0}]\n"
     ]
    }
   ],
   "source": [
    "# solution\n",
    "with_tax = map(lambda x: {**x, \"taxed_price\": x[\"price\"]* 1.1}, items)\n",
    "print(list(with_tax))"
   ]
  },
  {
   "cell_type": "code",
   "execution_count": 14,
   "metadata": {},
   "outputs": [
    {
     "name": "stdout",
     "output_type": "stream",
     "text": [
      "[{'name': 'apple', 'price': 10, 'qty': 3}, {'name': 'banana', 'price': 20, 'qty': 5}]\n",
      "[{'qty': 3}, {'qty': 5}]\n"
     ]
    }
   ],
   "source": [
    "# Remove a Field Dynamically: Write a function that removes any specified field(s) from each dictionary in a list.\n",
    "\n",
    "items = [\n",
    "    {\"name\": \"apple\", \"price\": 10, \"qty\": 3},\n",
    "    {\"name\": \"banana\", \"price\": 20, \"qty\": 5},\n",
    "]\n",
    "\n",
    "def remove_fields(items, fields_to_remove):\n",
    "  return {k: v for k, v in items.items() if k not in fields_to_remove}\n",
    "\n",
    "print(list(items))\n",
    "print(list(map(lambda item: remove_fields(item, [\"price\", \"name\"]), items)))\n"
   ]
  }
 ],
 "metadata": {
  "kernelspec": {
   "display_name": "Python 3 (ipykernel)",
   "language": "python",
   "name": "python3"
  },
  "language_info": {
   "codemirror_mode": {
    "name": "ipython",
    "version": 3
   },
   "file_extension": ".py",
   "mimetype": "text/x-python",
   "name": "python",
   "nbconvert_exporter": "python",
   "pygments_lexer": "ipython3",
   "version": "3.11.9"
  }
 },
 "nbformat": 4,
 "nbformat_minor": 2
}
